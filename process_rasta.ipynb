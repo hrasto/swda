{
 "cells": [
  {
   "cell_type": "code",
   "execution_count": 15,
   "metadata": {},
   "outputs": [],
   "source": [
    "from swda import Transcript\n",
    "import os\n",
    "import segmenters.structure as struc"
   ]
  },
  {
   "cell_type": "code",
   "execution_count": 42,
   "metadata": {},
   "outputs": [
    {
     "data": {
      "text/plain": [
       "'qy'"
      ]
     },
     "execution_count": 42,
     "metadata": {},
     "output_type": "execute_result"
    }
   ],
   "source": [
    "getattr(ut, 'act_tag')"
   ]
  },
  {
   "cell_type": "code",
   "execution_count": 55,
   "metadata": {},
   "outputs": [
    {
     "name": "stdout",
     "output_type": "stream",
     "text": [
      "swda/sw00utt\n",
      "swda/sw01utt\n",
      "swda/sw02utt\n",
      "swda/sw03utt\n",
      "swda/sw04utt\n",
      "swda/sw05utt\n",
      "swda/sw06utt\n",
      "swda/sw07utt\n",
      "swda/sw08utt\n",
      "swda/sw09utt\n",
      "skipping swda/sw09utt/.DS_Store\n",
      "swda/sw10utt\n",
      "swda/sw11utt\n",
      "swda/sw12utt\n",
      "swda/sw13utt\n",
      "Building vocabulary...\n",
      "Encoding tokens...\n"
     ]
    }
   ],
   "source": [
    "utt_attribs = ['act_tag', 'caller', 'caller_sex', 'caller_dialect_area', 'caller_education', 'caller_birth_year']\n",
    "trans_attribs = ['conversation_no', 'topic_description']\n",
    "seg = {'file': [], 'pos': []}\n",
    "for a in utt_attribs:\n",
    "    seg[a] = []\n",
    "for a in trans_attribs:\n",
    "    seg[a] = []\n",
    "\n",
    "newfile = open(f'swda.txt', 'w')\n",
    "\n",
    "def proc_label(label): \n",
    "    if type(label) == str:\n",
    "        return label.replace(' ', '_')\n",
    "    else: \n",
    "        return label\n",
    "\n",
    "for d in sorted(os.listdir('swda')):\n",
    "    path = os.path.join('swda', d)\n",
    "    if os.path.isdir(path):\n",
    "        print(path)\n",
    "        for fname in os.listdir(path):\n",
    "            fpath = os.path.join(path, fname)\n",
    "            try: \n",
    "                trans = Transcript(fpath, 'swda/swda-metadata.csv')\n",
    "            except UnicodeDecodeError: \n",
    "                print(f'skipping {fpath}')\n",
    "                pass\n",
    "            flabel = fname.split('.')[0]\n",
    "            for ut in trans.utterances:\n",
    "                seg['file'].append(flabel)\n",
    "                for a in utt_attribs:\n",
    "                    seg[a].append(proc_label(getattr(ut, a)))\n",
    "                for a in trans_attribs:\n",
    "                    seg[a].append(proc_label(getattr(trans, a)))\n",
    "                \n",
    "                line_ls = []\n",
    "                pos_ls = []\n",
    "                for word_i, (word, pos) in enumerate(ut.pos_lemmas()):\n",
    "                    word = word.lower()\n",
    "                    word = word.replace('-', '~') # dash is special character in my corpus format \n",
    "                    word_dashed = '-'.join(list(word))\n",
    "                    line_ls.append(word_dashed)\n",
    "                    pos_ls += [pos]*len(word)\n",
    "                seg['pos'].append(pos_ls)                \n",
    "                newfile.write(' '.join(line_ls) + '\\n')\n",
    "\n",
    "newfile.close()\n",
    "\n",
    "mask_token = '#'\n",
    "corpus = struc.StructuredCorpus.build('swda.txt', '_swda', char_lvl=False, extra_tokens=[mask_token])\n",
    "for sname, _seg in seg.items():\n",
    "    corpus.add_segmentation((sname, _seg))"
   ]
  },
  {
   "cell_type": "code",
   "execution_count": 60,
   "metadata": {},
   "outputs": [
    {
     "data": {
      "text/plain": [
       "[(['d', 'o'], 'VBP'),\n",
       " (['y', 'o', 'u'], 'PRP'),\n",
       " (['k', 'n', 'o', 'w'], 'VB'),\n",
       " (['a', 'n', 'y', 'o', 'n', 'e'], 'NN'),\n",
       " (['t', 'h', 'a', 't'], 'WDT'),\n",
       " ([','], ','),\n",
       " (['u', 'h'], 'UH'),\n",
       " ([','], ','),\n",
       " (['i', 's'], 'VBZ'),\n",
       " ([','], ',')]"
      ]
     },
     "execution_count": 60,
     "metadata": {},
     "output_type": "execute_result"
    }
   ],
   "source": [
    "list(corpus['pos'].first_n(10).postprocess(corpus.decode_sent))"
   ]
  },
  {
   "cell_type": "code",
   "execution_count": null,
   "metadata": {},
   "outputs": [],
   "source": [
    "trans = Transcript('swda/sw00utt/sw_0001_4325.utt.csv', 'swda/swda-metadata.csv')\n"
   ]
  },
  {
   "cell_type": "code",
   "execution_count": 38,
   "metadata": {},
   "outputs": [
    {
     "data": {
      "text/plain": [
       "'qy'"
      ]
     },
     "execution_count": 38,
     "metadata": {},
     "output_type": "execute_result"
    }
   ],
   "source": [
    "ut.act_tag"
   ]
  },
  {
   "cell_type": "code",
   "execution_count": 39,
   "metadata": {},
   "outputs": [
    {
     "data": {
      "text/plain": [
       "4028"
      ]
     },
     "execution_count": 39,
     "metadata": {},
     "output_type": "execute_result"
    }
   ],
   "source": [
    "trans.conversation_no"
   ]
  },
  {
   "cell_type": "code",
   "execution_count": 7,
   "metadata": {},
   "outputs": [
    {
     "data": {
      "text/plain": [
       "'Okay.  /'"
      ]
     },
     "execution_count": 7,
     "metadata": {},
     "output_type": "execute_result"
    }
   ],
   "source": []
  }
 ],
 "metadata": {
  "interpreter": {
   "hash": "d8f5a8577b8cf413169496226e4485bf91d05ebdcdf9e1588db361085a732ed9"
  },
  "kernelspec": {
   "display_name": "Python 3.8.12 64-bit ('ml_env': conda)",
   "name": "python3"
  },
  "language_info": {
   "codemirror_mode": {
    "name": "ipython",
    "version": 3
   },
   "file_extension": ".py",
   "mimetype": "text/x-python",
   "name": "python",
   "nbconvert_exporter": "python",
   "pygments_lexer": "ipython3",
   "version": "3.8.12"
  },
  "orig_nbformat": 4
 },
 "nbformat": 4,
 "nbformat_minor": 2
}
