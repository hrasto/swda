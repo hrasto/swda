{
 "cells": [
  {
   "cell_type": "code",
   "execution_count": 1,
   "metadata": {},
   "outputs": [
    {
     "name": "stdout",
     "output_type": "stream",
     "text": [
      "Building vocabulary...\n",
      "Encoding tokens...\n"
     ]
    }
   ],
   "source": [
    "from swda import Transcript\n",
    "import os\n",
    "import segmenters.structure as struc"
   ]
  },
  {
   "cell_type": "code",
   "execution_count": 3,
   "metadata": {},
   "outputs": [
    {
     "name": "stdout",
     "output_type": "stream",
     "text": [
      "swda/sw00utt\n",
      "swda/sw01utt\n",
      "swda/sw02utt\n",
      "swda/sw03utt\n",
      "swda/sw04utt\n",
      "swda/sw05utt\n",
      "swda/sw06utt\n",
      "swda/sw07utt\n",
      "swda/sw08utt\n",
      "swda/sw09utt\n",
      "skipping swda/sw09utt/.DS_Store\n",
      "swda/sw10utt\n",
      "swda/sw11utt\n",
      "swda/sw12utt\n",
      "swda/sw13utt\n"
     ]
    }
   ],
   "source": [
    "utt_attribs = ['act_tag', 'caller', 'caller_sex', 'caller_dialect_area', 'caller_education', 'caller_birth_year']\n",
    "trans_attribs = ['conversation_no', 'topic_description']\n",
    "seg = {'file': [], 'pos': []}\n",
    "for a in utt_attribs:\n",
    "    seg[a] = []\n",
    "for a in trans_attribs:\n",
    "    seg[a] = []\n",
    "\n",
    "newfile = open(f'swda.txt', 'w')\n",
    "\n",
    "def proc_label(label): \n",
    "    if type(label) == str:\n",
    "        return label.replace(' ', '_')\n",
    "    else: \n",
    "        return label\n",
    "\n",
    "for d in sorted(os.listdir('swda')):\n",
    "    path = os.path.join('swda', d)\n",
    "    if os.path.isdir(path):\n",
    "        print(path)\n",
    "        for fname in os.listdir(path):\n",
    "            fpath = os.path.join(path, fname)\n",
    "            try: \n",
    "                trans = Transcript(fpath, 'swda/swda-metadata.csv')\n",
    "            except UnicodeDecodeError: \n",
    "                print(f'skipping {fpath}')\n",
    "                continue\n",
    "            flabel = fname.split('.')[0]\n",
    "            for ut in trans.utterances:\n",
    "                line_ls = []\n",
    "                pos_ls = []\n",
    "                for word_i, (word, pos) in enumerate(ut.pos_lemmas()):\n",
    "                    word = word.strip().lower()\n",
    "                    if len(word) == 0: \n",
    "                        continue\n",
    "                    word = word.replace('-', '~') # dash is special character in my corpus format \n",
    "                    #word_dashed = '-'.join(list(word))\n",
    "                    #line_ls.append(word_dashed)\n",
    "                    line_ls.append(word)\n",
    "                    pos_ls += [pos]*len(word)\n",
    "\n",
    "                if len(line_ls) == 0:\n",
    "                    continue # skip empty lines \n",
    "\n",
    "                seg['file'].append(flabel)\n",
    "                for a in utt_attribs:\n",
    "                    seg[a].append(proc_label(getattr(ut, a)))\n",
    "                for a in trans_attribs:\n",
    "                    seg[a].append(proc_label(getattr(trans, a)))\n",
    "                seg['pos'].append(pos_ls)                \n",
    "\n",
    "                line = ' '.join(line_ls) + '\\n'\n",
    "                if len(line.strip()) == 0: \n",
    "                    print(line)\n",
    "                newfile.write(line)\n",
    "        #break\n",
    "\n",
    "newfile.close()"
   ]
  },
  {
   "cell_type": "code",
   "execution_count": 4,
   "metadata": {},
   "outputs": [
    {
     "name": "stdout",
     "output_type": "stream",
     "text": [
      "Building vocabulary...\n",
      "Encoding tokens...\n"
     ]
    }
   ],
   "source": [
    "mask_token = '#'\n",
    "corpus = struc.StructuredCorpus.build('swda.txt', '_swda', extra_tokens=[mask_token], split_line='ch')\n",
    "for sname, _seg in seg.items():\n",
    "    corpus.add_segmentation((sname, _seg))"
   ]
  },
  {
   "cell_type": "code",
   "execution_count": null,
   "metadata": {},
   "outputs": [],
   "source": []
  }
 ],
 "metadata": {
  "interpreter": {
   "hash": "d8f5a8577b8cf413169496226e4485bf91d05ebdcdf9e1588db361085a732ed9"
  },
  "kernelspec": {
   "display_name": "Python 3.8.12 64-bit ('ml_env': conda)",
   "name": "python3"
  },
  "language_info": {
   "codemirror_mode": {
    "name": "ipython",
    "version": 3
   },
   "file_extension": ".py",
   "mimetype": "text/x-python",
   "name": "python",
   "nbconvert_exporter": "python",
   "pygments_lexer": "ipython3",
   "version": "3.8.12"
  },
  "orig_nbformat": 4
 },
 "nbformat": 4,
 "nbformat_minor": 2
}
